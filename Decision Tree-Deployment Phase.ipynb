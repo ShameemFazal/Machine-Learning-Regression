{
 "cells": [
  {
   "cell_type": "code",
   "execution_count": 1,
   "id": "a15277d4-b02d-4385-b5a2-2993384a7267",
   "metadata": {},
   "outputs": [],
   "source": [
    "import pickle"
   ]
  },
  {
   "cell_type": "code",
   "execution_count": 3,
   "id": "f94906e9-b1cd-4cc4-8ab5-cbfd31ff69f6",
   "metadata": {},
   "outputs": [],
   "source": [
    "loaded_model = pickle.load(open(\"Finalized_Decision_Tree_model.sav\",'rb'))"
   ]
  },
  {
   "cell_type": "code",
   "execution_count": 5,
   "id": "9a6b28d3-5470-4eba-8322-a06b9becc1c3",
   "metadata": {},
   "outputs": [
    {
     "name": "stdin",
     "output_type": "stream",
     "text": [
      "R and D: 2000\n",
      "Admin : 400\n",
      "Marketing : 4000\n",
      "State_florida 0 or 1: 0\n",
      "State_NewYork 0 or 1: 0\n"
     ]
    }
   ],
   "source": [
    "rd_input= float(input(\"R and D:\"))\n",
    "admin_input=float(input(\"Admin :\"))\n",
    "mark_input=float(input(\"Marketing :\"))\n",
    "florida_input=int(input(\"State_florida 0 or 1:\"))\n",
    "newYork_input=int(input(\"State_NewYork 0 or 1:\"))"
   ]
  },
  {
   "cell_type": "code",
   "execution_count": 7,
   "id": "25047b6c-2565-4aa3-be35-9ec126675b30",
   "metadata": {},
   "outputs": [
    {
     "name": "stderr",
     "output_type": "stream",
     "text": [
      "C:\\Users\\Shameem\\anaconda3\\Lib\\site-packages\\sklearn\\base.py:493: UserWarning: X does not have valid feature names, but DecisionTreeRegressor was fitted with feature names\n",
      "  warnings.warn(\n"
     ]
    }
   ],
   "source": [
    "result=loaded_model.predict([[rd_input,admin_input,mark_input,florida_input,newYork_input]])"
   ]
  },
  {
   "cell_type": "code",
   "execution_count": 9,
   "id": "7f93a2e7-561b-4221-8047-cd4573352e70",
   "metadata": {},
   "outputs": [
    {
     "data": {
      "text/plain": [
       "array([49490.75])"
      ]
     },
     "execution_count": 9,
     "metadata": {},
     "output_type": "execute_result"
    }
   ],
   "source": [
    "result"
   ]
  },
  {
   "cell_type": "code",
   "execution_count": null,
   "id": "ff4e6876-bd6f-47ed-b178-dfca02428716",
   "metadata": {},
   "outputs": [],
   "source": []
  }
 ],
 "metadata": {
  "kernelspec": {
   "display_name": "Python 3 (ipykernel)",
   "language": "python",
   "name": "python3"
  },
  "language_info": {
   "codemirror_mode": {
    "name": "ipython",
    "version": 3
   },
   "file_extension": ".py",
   "mimetype": "text/x-python",
   "name": "python",
   "nbconvert_exporter": "python",
   "pygments_lexer": "ipython3",
   "version": "3.12.4"
  }
 },
 "nbformat": 4,
 "nbformat_minor": 5
}
