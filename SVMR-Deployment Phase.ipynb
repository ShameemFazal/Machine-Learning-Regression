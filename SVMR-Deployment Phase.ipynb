{
 "cells": [
  {
   "cell_type": "code",
   "execution_count": 1,
   "id": "b308f5ca-e416-4c8b-bcfa-b88fa6fd5e0d",
   "metadata": {},
   "outputs": [],
   "source": [
    "import pickle"
   ]
  },
  {
   "cell_type": "code",
   "execution_count": 5,
   "id": "7b2abce4-ee59-45c0-b767-e3dc082cf381",
   "metadata": {},
   "outputs": [],
   "source": [
    "loaded_model = pickle.load(open(\"SVMlinear_final.sav\",'rb'))"
   ]
  },
  {
   "cell_type": "code",
   "execution_count": 7,
   "id": "7a2896b4-0a4e-45da-a9e7-54d4335c4772",
   "metadata": {},
   "outputs": [
    {
     "name": "stdin",
     "output_type": "stream",
     "text": [
      "R and D: 2000\n",
      "Admin : 200\n",
      "Marketing : 4000\n",
      "State_florida 0 or 1: 0\n",
      "State_NewYork 0 or 1: 0\n"
     ]
    }
   ],
   "source": [
    "rd_input= float(input(\"R and D:\"))\n",
    "admin_input=float(input(\"Admin :\"))\n",
    "mark_input=float(input(\"Marketing :\"))\n",
    "florida_input=int(input(\"State_florida 0 or 1:\"))\n",
    "newYork_input=int(input(\"State_NewYork 0 or 1:\"))"
   ]
  },
  {
   "cell_type": "code",
   "execution_count": 11,
   "id": "fda0436b-32f0-4fec-bec5-c2f98014e269",
   "metadata": {},
   "outputs": [],
   "source": [
    "result = loaded_model.predict([[rd_input,admin_input,mark_input,florida_input,newYork_input]])"
   ]
  },
  {
   "cell_type": "code",
   "execution_count": 13,
   "id": "e169238b-8e09-499b-a32b-a9354f98e6ae",
   "metadata": {},
   "outputs": [
    {
     "data": {
      "text/plain": [
       "array([94006368.39477096])"
      ]
     },
     "execution_count": 13,
     "metadata": {},
     "output_type": "execute_result"
    }
   ],
   "source": [
    "result"
   ]
  },
  {
   "cell_type": "code",
   "execution_count": null,
   "id": "28828650-1666-4a81-9714-daca1181e521",
   "metadata": {},
   "outputs": [],
   "source": []
  }
 ],
 "metadata": {
  "kernelspec": {
   "display_name": "Python 3 (ipykernel)",
   "language": "python",
   "name": "python3"
  },
  "language_info": {
   "codemirror_mode": {
    "name": "ipython",
    "version": 3
   },
   "file_extension": ".py",
   "mimetype": "text/x-python",
   "name": "python",
   "nbconvert_exporter": "python",
   "pygments_lexer": "ipython3",
   "version": "3.12.4"
  }
 },
 "nbformat": 4,
 "nbformat_minor": 5
}
