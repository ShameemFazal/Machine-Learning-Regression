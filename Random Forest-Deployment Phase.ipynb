{
 "cells": [
  {
   "cell_type": "code",
   "execution_count": 1,
   "id": "81faf010-96e8-48e4-ae80-6d85c50d3f4a",
   "metadata": {},
   "outputs": [],
   "source": [
    "import pickle"
   ]
  },
  {
   "cell_type": "code",
   "execution_count": 3,
   "id": "4c2c3038-61bb-48d4-9272-0bb5409f30dd",
   "metadata": {},
   "outputs": [],
   "source": [
    "loaded_model = pickle.load(open(\"Finalized_Random_Forest_model.sav\",'rb'))"
   ]
  },
  {
   "cell_type": "code",
   "execution_count": 5,
   "id": "60d2b2ed-7d22-4229-a6f8-7a962af217fe",
   "metadata": {},
   "outputs": [
    {
     "name": "stdin",
     "output_type": "stream",
     "text": [
      "R and D: 2000\n",
      "Admin : 400\n",
      "Marketing : 4000\n",
      "State_florida 0 or 1: 0\n",
      "State_NewYork 0 or 1: 0\n"
     ]
    }
   ],
   "source": [
    "rd_input= float(input(\"R and D:\"))\n",
    "admin_input=float(input(\"Admin :\"))\n",
    "mark_input=float(input(\"Marketing :\"))\n",
    "florida_input=int(input(\"State_florida 0 or 1:\"))\n",
    "newYork_input=int(input(\"State_NewYork 0 or 1:\"))"
   ]
  },
  {
   "cell_type": "code",
   "execution_count": 7,
   "id": "9de9fa23-8fff-4080-baf8-7e046df2f4ce",
   "metadata": {},
   "outputs": [
    {
     "name": "stderr",
     "output_type": "stream",
     "text": [
      "C:\\Users\\Shameem\\anaconda3\\Lib\\site-packages\\sklearn\\base.py:493: UserWarning: X does not have valid feature names, but RandomForestRegressor was fitted with feature names\n",
      "  warnings.warn(\n"
     ]
    }
   ],
   "source": [
    "result = loaded_model.predict([[rd_input,admin_input,mark_input,florida_input,newYork_input]])"
   ]
  },
  {
   "cell_type": "code",
   "execution_count": 9,
   "id": "a5fee980-e37f-4c01-be6d-6bd171e8527c",
   "metadata": {},
   "outputs": [
    {
     "data": {
      "text/plain": [
       "array([50271.977])"
      ]
     },
     "execution_count": 9,
     "metadata": {},
     "output_type": "execute_result"
    }
   ],
   "source": [
    "result"
   ]
  },
  {
   "cell_type": "code",
   "execution_count": null,
   "id": "186c94ef-74b4-43be-9802-82d6597e269e",
   "metadata": {},
   "outputs": [],
   "source": []
  }
 ],
 "metadata": {
  "kernelspec": {
   "display_name": "Python 3 (ipykernel)",
   "language": "python",
   "name": "python3"
  },
  "language_info": {
   "codemirror_mode": {
    "name": "ipython",
    "version": 3
   },
   "file_extension": ".py",
   "mimetype": "text/x-python",
   "name": "python",
   "nbconvert_exporter": "python",
   "pygments_lexer": "ipython3",
   "version": "3.12.4"
  }
 },
 "nbformat": 4,
 "nbformat_minor": 5
}
