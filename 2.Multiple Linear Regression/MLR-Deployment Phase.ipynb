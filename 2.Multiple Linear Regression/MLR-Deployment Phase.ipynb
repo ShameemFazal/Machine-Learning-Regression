{
 "cells": [
  {
   "cell_type": "code",
   "execution_count": 9,
   "id": "d9644546-bc22-4a4a-b511-85c6711df13b",
   "metadata": {},
   "outputs": [],
   "source": [
    "import pickle"
   ]
  },
  {
   "cell_type": "code",
   "execution_count": 12,
   "id": "8eee70ce-6178-47be-a12e-1f89f3d9b4d7",
   "metadata": {},
   "outputs": [],
   "source": [
    "loaded_model = pickle.load(open(\"multilinear_final.sav\",'rb'))"
   ]
  },
  {
   "cell_type": "code",
   "execution_count": 14,
   "id": "5a45be83-685c-431f-8d3d-f1a93850fdae",
   "metadata": {},
   "outputs": [
    {
     "name": "stdin",
     "output_type": "stream",
     "text": [
      "R and D: 2000\n",
      "Admin : 400\n",
      "Marketing : 4000\n",
      "State_florida 0 or 1: 0\n",
      "State_NewYork 0 or 1: 0\n"
     ]
    }
   ],
   "source": [
    "rd_input= float(input(\"R and D:\"))\n",
    "admin_input=float(input(\"Admin :\"))\n",
    "mark_input=float(input(\"Marketing :\"))\n",
    "florida_input=int(input(\"State_florida 0 or 1:\"))\n",
    "newYork_input=int(input(\"State_NewYork 0 or 1:\"))"
   ]
  },
  {
   "cell_type": "code",
   "execution_count": 18,
   "id": "c7f52b16-7a6c-4248-becd-c8084ef580e9",
   "metadata": {},
   "outputs": [
    {
     "name": "stderr",
     "output_type": "stream",
     "text": [
      "C:\\Users\\Shameem\\anaconda3\\Lib\\site-packages\\sklearn\\base.py:493: UserWarning: X does not have valid feature names, but LinearRegression was fitted with feature names\n",
      "  warnings.warn(\n"
     ]
    }
   ],
   "source": [
    "result = loaded_model.predict([[rd_input,admin_input,mark_input,florida_input,newYork_input]])"
   ]
  },
  {
   "cell_type": "code",
   "execution_count": 20,
   "id": "ce42cb36-922c-4a74-9900-73f89df96685",
   "metadata": {},
   "outputs": [
    {
     "data": {
      "text/plain": [
       "array([[40914.33615068]])"
      ]
     },
     "execution_count": 20,
     "metadata": {},
     "output_type": "execute_result"
    }
   ],
   "source": [
    "result"
   ]
  },
  {
   "cell_type": "code",
   "execution_count": null,
   "id": "1e18d9e5-2b47-4d11-9275-17b71ea85700",
   "metadata": {},
   "outputs": [],
   "source": []
  }
 ],
 "metadata": {
  "kernelspec": {
   "display_name": "Python 3 (ipykernel)",
   "language": "python",
   "name": "python3"
  },
  "language_info": {
   "codemirror_mode": {
    "name": "ipython",
    "version": 3
   },
   "file_extension": ".py",
   "mimetype": "text/x-python",
   "name": "python",
   "nbconvert_exporter": "python",
   "pygments_lexer": "ipython3",
   "version": "3.12.4"
  }
 },
 "nbformat": 4,
 "nbformat_minor": 5
}
